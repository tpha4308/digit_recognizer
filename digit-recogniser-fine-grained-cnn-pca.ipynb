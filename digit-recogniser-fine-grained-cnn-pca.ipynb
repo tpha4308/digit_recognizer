{
 "cells": [
  {
   "cell_type": "markdown",
   "id": "f13d9f31",
   "metadata": {
    "papermill": {
     "duration": 0.037301,
     "end_time": "2022-03-29T09:53:56.114093",
     "exception": false,
     "start_time": "2022-03-29T09:53:56.076792",
     "status": "completed"
    },
    "tags": []
   },
   "source": [
    "# Import libraries"
   ]
  },
  {
   "cell_type": "code",
   "execution_count": 1,
   "id": "dce032db",
   "metadata": {
    "_cell_guid": "b1076dfc-b9ad-4769-8c92-a6c4dae69d19",
    "_uuid": "8f2839f25d086af736a60e9eeb907d3b93b6e0e5",
    "execution": {
     "iopub.execute_input": "2022-03-29T09:53:56.194013Z",
     "iopub.status.busy": "2022-03-29T09:53:56.192151Z",
     "iopub.status.idle": "2022-03-29T09:54:03.697843Z",
     "shell.execute_reply": "2022-03-29T09:54:03.696965Z",
     "shell.execute_reply.started": "2022-03-29T09:43:07.101174Z"
    },
    "papermill": {
     "duration": 7.548588,
     "end_time": "2022-03-29T09:54:03.698053",
     "exception": false,
     "start_time": "2022-03-29T09:53:56.149465",
     "status": "completed"
    },
    "tags": []
   },
   "outputs": [],
   "source": [
    "import numpy as np\n",
    "import pandas as pd\n",
    "import tensorflow as tf\n",
    "import matplotlib.pyplot as plt\n",
    "from keras import layers\n",
    "from sklearn.model_selection import train_test_split\n",
    "from tensorflow.keras.preprocessing.image import ImageDataGenerator\n",
    "from sklearn.preprocessing import StandardScaler\n",
    "from tensorflow.keras import Sequential\n",
    "from tensorflow.keras.layers import Dense, Conv2D, MaxPool2D, Flatten, MaxPooling1D, Dropout\n",
    "from sklearn.decomposition import PCA"
   ]
  },
  {
   "cell_type": "markdown",
   "id": "bfd6b2d8",
   "metadata": {
    "papermill": {
     "duration": 0.034137,
     "end_time": "2022-03-29T09:54:03.767143",
     "exception": false,
     "start_time": "2022-03-29T09:54:03.733006",
     "status": "completed"
    },
    "tags": []
   },
   "source": [
    "# Prepare data"
   ]
  },
  {
   "cell_type": "code",
   "execution_count": 2,
   "id": "5b7c3231",
   "metadata": {
    "execution": {
     "iopub.execute_input": "2022-03-29T09:54:03.842002Z",
     "iopub.status.busy": "2022-03-29T09:54:03.841283Z",
     "iopub.status.idle": "2022-03-29T09:54:07.766474Z",
     "shell.execute_reply": "2022-03-29T09:54:07.767312Z",
     "shell.execute_reply.started": "2022-03-29T09:43:14.387148Z"
    },
    "papermill": {
     "duration": 3.966126,
     "end_time": "2022-03-29T09:54:07.767541",
     "exception": false,
     "start_time": "2022-03-29T09:54:03.801415",
     "status": "completed"
    },
    "tags": []
   },
   "outputs": [
    {
     "data": {
      "text/html": [
       "<div>\n",
       "<style scoped>\n",
       "    .dataframe tbody tr th:only-of-type {\n",
       "        vertical-align: middle;\n",
       "    }\n",
       "\n",
       "    .dataframe tbody tr th {\n",
       "        vertical-align: top;\n",
       "    }\n",
       "\n",
       "    .dataframe thead th {\n",
       "        text-align: right;\n",
       "    }\n",
       "</style>\n",
       "<table border=\"1\" class=\"dataframe\">\n",
       "  <thead>\n",
       "    <tr style=\"text-align: right;\">\n",
       "      <th></th>\n",
       "      <th>label</th>\n",
       "      <th>pixel0</th>\n",
       "      <th>pixel1</th>\n",
       "      <th>pixel2</th>\n",
       "      <th>pixel3</th>\n",
       "      <th>pixel4</th>\n",
       "      <th>pixel5</th>\n",
       "      <th>pixel6</th>\n",
       "      <th>pixel7</th>\n",
       "      <th>pixel8</th>\n",
       "      <th>...</th>\n",
       "      <th>pixel774</th>\n",
       "      <th>pixel775</th>\n",
       "      <th>pixel776</th>\n",
       "      <th>pixel777</th>\n",
       "      <th>pixel778</th>\n",
       "      <th>pixel779</th>\n",
       "      <th>pixel780</th>\n",
       "      <th>pixel781</th>\n",
       "      <th>pixel782</th>\n",
       "      <th>pixel783</th>\n",
       "    </tr>\n",
       "  </thead>\n",
       "  <tbody>\n",
       "    <tr>\n",
       "      <th>0</th>\n",
       "      <td>1</td>\n",
       "      <td>0</td>\n",
       "      <td>0</td>\n",
       "      <td>0</td>\n",
       "      <td>0</td>\n",
       "      <td>0</td>\n",
       "      <td>0</td>\n",
       "      <td>0</td>\n",
       "      <td>0</td>\n",
       "      <td>0</td>\n",
       "      <td>...</td>\n",
       "      <td>0</td>\n",
       "      <td>0</td>\n",
       "      <td>0</td>\n",
       "      <td>0</td>\n",
       "      <td>0</td>\n",
       "      <td>0</td>\n",
       "      <td>0</td>\n",
       "      <td>0</td>\n",
       "      <td>0</td>\n",
       "      <td>0</td>\n",
       "    </tr>\n",
       "    <tr>\n",
       "      <th>1</th>\n",
       "      <td>0</td>\n",
       "      <td>0</td>\n",
       "      <td>0</td>\n",
       "      <td>0</td>\n",
       "      <td>0</td>\n",
       "      <td>0</td>\n",
       "      <td>0</td>\n",
       "      <td>0</td>\n",
       "      <td>0</td>\n",
       "      <td>0</td>\n",
       "      <td>...</td>\n",
       "      <td>0</td>\n",
       "      <td>0</td>\n",
       "      <td>0</td>\n",
       "      <td>0</td>\n",
       "      <td>0</td>\n",
       "      <td>0</td>\n",
       "      <td>0</td>\n",
       "      <td>0</td>\n",
       "      <td>0</td>\n",
       "      <td>0</td>\n",
       "    </tr>\n",
       "    <tr>\n",
       "      <th>2</th>\n",
       "      <td>1</td>\n",
       "      <td>0</td>\n",
       "      <td>0</td>\n",
       "      <td>0</td>\n",
       "      <td>0</td>\n",
       "      <td>0</td>\n",
       "      <td>0</td>\n",
       "      <td>0</td>\n",
       "      <td>0</td>\n",
       "      <td>0</td>\n",
       "      <td>...</td>\n",
       "      <td>0</td>\n",
       "      <td>0</td>\n",
       "      <td>0</td>\n",
       "      <td>0</td>\n",
       "      <td>0</td>\n",
       "      <td>0</td>\n",
       "      <td>0</td>\n",
       "      <td>0</td>\n",
       "      <td>0</td>\n",
       "      <td>0</td>\n",
       "    </tr>\n",
       "    <tr>\n",
       "      <th>3</th>\n",
       "      <td>4</td>\n",
       "      <td>0</td>\n",
       "      <td>0</td>\n",
       "      <td>0</td>\n",
       "      <td>0</td>\n",
       "      <td>0</td>\n",
       "      <td>0</td>\n",
       "      <td>0</td>\n",
       "      <td>0</td>\n",
       "      <td>0</td>\n",
       "      <td>...</td>\n",
       "      <td>0</td>\n",
       "      <td>0</td>\n",
       "      <td>0</td>\n",
       "      <td>0</td>\n",
       "      <td>0</td>\n",
       "      <td>0</td>\n",
       "      <td>0</td>\n",
       "      <td>0</td>\n",
       "      <td>0</td>\n",
       "      <td>0</td>\n",
       "    </tr>\n",
       "    <tr>\n",
       "      <th>4</th>\n",
       "      <td>0</td>\n",
       "      <td>0</td>\n",
       "      <td>0</td>\n",
       "      <td>0</td>\n",
       "      <td>0</td>\n",
       "      <td>0</td>\n",
       "      <td>0</td>\n",
       "      <td>0</td>\n",
       "      <td>0</td>\n",
       "      <td>0</td>\n",
       "      <td>...</td>\n",
       "      <td>0</td>\n",
       "      <td>0</td>\n",
       "      <td>0</td>\n",
       "      <td>0</td>\n",
       "      <td>0</td>\n",
       "      <td>0</td>\n",
       "      <td>0</td>\n",
       "      <td>0</td>\n",
       "      <td>0</td>\n",
       "      <td>0</td>\n",
       "    </tr>\n",
       "  </tbody>\n",
       "</table>\n",
       "<p>5 rows × 785 columns</p>\n",
       "</div>"
      ],
      "text/plain": [
       "   label  pixel0  pixel1  pixel2  pixel3  pixel4  pixel5  pixel6  pixel7  \\\n",
       "0      1       0       0       0       0       0       0       0       0   \n",
       "1      0       0       0       0       0       0       0       0       0   \n",
       "2      1       0       0       0       0       0       0       0       0   \n",
       "3      4       0       0       0       0       0       0       0       0   \n",
       "4      0       0       0       0       0       0       0       0       0   \n",
       "\n",
       "   pixel8  ...  pixel774  pixel775  pixel776  pixel777  pixel778  pixel779  \\\n",
       "0       0  ...         0         0         0         0         0         0   \n",
       "1       0  ...         0         0         0         0         0         0   \n",
       "2       0  ...         0         0         0         0         0         0   \n",
       "3       0  ...         0         0         0         0         0         0   \n",
       "4       0  ...         0         0         0         0         0         0   \n",
       "\n",
       "   pixel780  pixel781  pixel782  pixel783  \n",
       "0         0         0         0         0  \n",
       "1         0         0         0         0  \n",
       "2         0         0         0         0  \n",
       "3         0         0         0         0  \n",
       "4         0         0         0         0  \n",
       "\n",
       "[5 rows x 785 columns]"
      ]
     },
     "execution_count": 2,
     "metadata": {},
     "output_type": "execute_result"
    }
   ],
   "source": [
    "# Read in dataset\n",
    "df = pd.read_csv(r'/kaggle/input/digit-recognizer/train.csv')\n",
    "df.head()"
   ]
  },
  {
   "cell_type": "code",
   "execution_count": 3,
   "id": "47d19c97",
   "metadata": {
    "execution": {
     "iopub.execute_input": "2022-03-29T09:54:07.849638Z",
     "iopub.status.busy": "2022-03-29T09:54:07.848829Z",
     "iopub.status.idle": "2022-03-29T09:54:07.857594Z",
     "shell.execute_reply": "2022-03-29T09:54:07.856966Z",
     "shell.execute_reply.started": "2022-03-29T09:43:18.058748Z"
    },
    "papermill": {
     "duration": 0.047636,
     "end_time": "2022-03-29T09:54:07.857751",
     "exception": false,
     "start_time": "2022-03-29T09:54:07.810115",
     "status": "completed"
    },
    "tags": []
   },
   "outputs": [
    {
     "data": {
      "text/plain": [
       "array([1, 0, 1, ..., 7, 6, 9])"
      ]
     },
     "execution_count": 3,
     "metadata": {},
     "output_type": "execute_result"
    }
   ],
   "source": [
    "# Take out the labels\n",
    "label = df['label'].values\n",
    "label"
   ]
  },
  {
   "cell_type": "code",
   "execution_count": 4,
   "id": "cc16cd0c",
   "metadata": {
    "execution": {
     "iopub.execute_input": "2022-03-29T09:54:07.939757Z",
     "iopub.status.busy": "2022-03-29T09:54:07.939019Z",
     "iopub.status.idle": "2022-03-29T09:54:07.941937Z",
     "shell.execute_reply": "2022-03-29T09:54:07.942596Z",
     "shell.execute_reply.started": "2022-03-29T09:43:18.071780Z"
    },
    "papermill": {
     "duration": 0.048074,
     "end_time": "2022-03-29T09:54:07.942782",
     "exception": false,
     "start_time": "2022-03-29T09:54:07.894708",
     "status": "completed"
    },
    "tags": []
   },
   "outputs": [
    {
     "data": {
      "text/plain": [
       "(42000, 784)"
      ]
     },
     "execution_count": 4,
     "metadata": {},
     "output_type": "execute_result"
    }
   ],
   "source": [
    "# Drop the first column (aka the labels) and save the remaining columns as data\n",
    "data = df.iloc[: , 1:].values\n",
    "data.shape"
   ]
  },
  {
   "cell_type": "code",
   "execution_count": 5,
   "id": "315f2dbd",
   "metadata": {
    "execution": {
     "iopub.execute_input": "2022-03-29T09:54:08.021399Z",
     "iopub.status.busy": "2022-03-29T09:54:08.020610Z",
     "iopub.status.idle": "2022-03-29T09:54:08.025537Z",
     "shell.execute_reply": "2022-03-29T09:54:08.026144Z",
     "shell.execute_reply.started": "2022-03-29T09:43:18.096636Z"
    },
    "papermill": {
     "duration": 0.045572,
     "end_time": "2022-03-29T09:54:08.026347",
     "exception": false,
     "start_time": "2022-03-29T09:54:07.980775",
     "status": "completed"
    },
    "tags": []
   },
   "outputs": [
    {
     "data": {
      "text/plain": [
       "(42000, 28, 28, 1)"
      ]
     },
     "execution_count": 5,
     "metadata": {},
     "output_type": "execute_result"
    }
   ],
   "source": [
    "data = np.reshape(data, (-1, 28,28, 1))\n",
    "data.shape"
   ]
  },
  {
   "cell_type": "markdown",
   "id": "00a5c903",
   "metadata": {
    "papermill": {
     "duration": 0.036466,
     "end_time": "2022-03-29T09:54:08.100127",
     "exception": false,
     "start_time": "2022-03-29T09:54:08.063661",
     "status": "completed"
    },
    "tags": []
   },
   "source": [
    "# Explanation of approach"
   ]
  },
  {
   "cell_type": "markdown",
   "id": "68427bd6",
   "metadata": {
    "papermill": {
     "duration": 0.036301,
     "end_time": "2022-03-29T09:54:08.173263",
     "exception": false,
     "start_time": "2022-03-29T09:54:08.136962",
     "status": "completed"
    },
    "tags": []
   },
   "source": [
    "The approach of this notebook is inspired by [this article](https://medium.com/@vbm1973/classification-of-mnist-data-with-100-accuracy-d8037a43eebb). That is, instead of directly classifying each digit using their labels, we will create a representative vector for each digit. Our neural network will take in an input picture and in its last layer, will generate a vector. We then calculate the similarity score between the generated vector and the representative vectors of each digit. Then, whichever digit representative vector gives the highest similarity score will be the predicted label of our input image. "
   ]
  },
  {
   "cell_type": "markdown",
   "id": "51ab9354",
   "metadata": {
    "papermill": {
     "duration": 0.03656,
     "end_time": "2022-03-29T09:54:08.246749",
     "exception": false,
     "start_time": "2022-03-29T09:54:08.210189",
     "status": "completed"
    },
    "tags": []
   },
   "source": [
    "# Create representation vectors for each digit\n",
    "\n",
    "To create the rerepsentation vectors, we first consider the average shape of each digit. To ensure that the representative vectors are distinct enough from each other, we need to have the similarity score between each pair to be less than or equal to 0.5. "
   ]
  },
  {
   "cell_type": "markdown",
   "id": "709cabc3",
   "metadata": {
    "papermill": {
     "duration": 0.036834,
     "end_time": "2022-03-29T09:54:08.320501",
     "exception": false,
     "start_time": "2022-03-29T09:54:08.283667",
     "status": "completed"
    },
    "tags": []
   },
   "source": [
    "## Get the average shape for each digit"
   ]
  },
  {
   "cell_type": "code",
   "execution_count": 6,
   "id": "f83e3dde",
   "metadata": {
    "execution": {
     "iopub.execute_input": "2022-03-29T09:54:08.399656Z",
     "iopub.status.busy": "2022-03-29T09:54:08.398897Z",
     "iopub.status.idle": "2022-03-29T09:54:08.736892Z",
     "shell.execute_reply": "2022-03-29T09:54:08.737487Z",
     "shell.execute_reply.started": "2022-03-29T09:43:18.107038Z"
    },
    "papermill": {
     "duration": 0.380391,
     "end_time": "2022-03-29T09:54:08.737707",
     "exception": false,
     "start_time": "2022-03-29T09:54:08.357316",
     "status": "completed"
    },
    "tags": []
   },
   "outputs": [],
   "source": [
    "digit_average_ls = []\n",
    "for i in range(10):\n",
    "    digit = data[label==i]\n",
    "    digit_mean = np.squeeze(np.mean(digit, axis=0))\n",
    "    digit_average_ls.append(digit_mean)\n",
    "\n",
    "digit_average_ls = np.array(digit_average_ls)"
   ]
  },
  {
   "cell_type": "code",
   "execution_count": 7,
   "id": "0bd98ffd",
   "metadata": {
    "execution": {
     "iopub.execute_input": "2022-03-29T09:54:08.823312Z",
     "iopub.status.busy": "2022-03-29T09:54:08.822267Z",
     "iopub.status.idle": "2022-03-29T09:54:09.311119Z",
     "shell.execute_reply": "2022-03-29T09:54:09.310540Z",
     "shell.execute_reply.started": "2022-03-29T09:50:54.970422Z"
    },
    "papermill": {
     "duration": 0.534604,
     "end_time": "2022-03-29T09:54:09.311287",
     "exception": false,
     "start_time": "2022-03-29T09:54:08.776683",
     "status": "completed"
    },
    "tags": []
   },
   "outputs": [
    {
     "data": {
      "image/png": "[encoded data removed]",
      "text/plain": [
       "<Figure size 1080x432 with 10 Axes>"
      ]
     },
     "metadata": {
      "needs_background": "light"
     },
     "output_type": "display_data"
    }
   ],
   "source": [
    "# Visualising the average shapes\n",
    "nrows, ncols = 2,5\n",
    "fig, axs = plt.subplots(2, 5, figsize=(ncols*3, nrows*3))\n",
    "n = 0\n",
    "for i in range(nrows):\n",
    "    for j in range(ncols):\n",
    "        axs[i,j].imshow(digit_average_ls[n], cmap='gray')\n",
    "        axs[i,j].axis('off')\n",
    "        axs[i,j].set_title(n)\n",
    "        n += 1\n",
    "plt.show()"
   ]
  },
  {
   "cell_type": "markdown",
   "id": "73d86213",
   "metadata": {
    "papermill": {
     "duration": 0.037228,
     "end_time": "2022-03-29T09:54:09.386719",
     "exception": false,
     "start_time": "2022-03-29T09:54:09.349491",
     "status": "completed"
    },
    "tags": []
   },
   "source": [
    "## Calculate the cosine similarities "
   ]
  },
  {
   "cell_type": "code",
   "execution_count": 8,
   "id": "36982677",
   "metadata": {
    "execution": {
     "iopub.execute_input": "2022-03-29T09:54:09.468360Z",
     "iopub.status.busy": "2022-03-29T09:54:09.467656Z",
     "iopub.status.idle": "2022-03-29T09:54:09.470741Z",
     "shell.execute_reply": "2022-03-29T09:54:09.470229Z",
     "shell.execute_reply.started": "2022-03-29T09:43:18.948851Z"
    },
    "papermill": {
     "duration": 0.046286,
     "end_time": "2022-03-29T09:54:09.470891",
     "exception": false,
     "start_time": "2022-03-29T09:54:09.424605",
     "status": "completed"
    },
    "tags": []
   },
   "outputs": [],
   "source": [
    "def get_cosine_similarity(a, b):\n",
    "    return np.dot(a, b)/(np.linalg.norm(a)*np.linalg.norm(b))"
   ]
  },
  {
   "cell_type": "code",
   "execution_count": 9,
   "id": "fb6d66e9",
   "metadata": {
    "execution": {
     "iopub.execute_input": "2022-03-29T09:54:09.557633Z",
     "iopub.status.busy": "2022-03-29T09:54:09.556879Z",
     "iopub.status.idle": "2022-03-29T09:54:09.582164Z",
     "shell.execute_reply": "2022-03-29T09:54:09.583317Z",
     "shell.execute_reply.started": "2022-03-29T09:43:18.955754Z"
    },
    "papermill": {
     "duration": 0.072543,
     "end_time": "2022-03-29T09:54:09.583679",
     "exception": false,
     "start_time": "2022-03-29T09:54:09.511136",
     "status": "completed"
    },
    "tags": []
   },
   "outputs": [
    {
     "name": "stdout",
     "output_type": "stream",
     "text": [
      "0 2 0.7400653081634937\n",
      "0 3 0.7453187005979107\n",
      "0 5 0.8406279544383235\n",
      "0 6 0.7379596495322229\n",
      "0 8 0.7465098928700251\n",
      "1 8 0.7638262592339932\n",
      "2 3 0.8069947504682508\n",
      "2 4 0.7517729683790816\n",
      "2 5 0.7742345778919341\n",
      "2 6 0.8407964578880117\n",
      "2 8 0.8586664267589967\n",
      "2 9 0.7348826749766736\n",
      "3 5 0.9016784192529814\n",
      "3 6 0.7110344188862362\n",
      "3 7 0.700910790248742\n",
      "3 8 0.8757705495949757\n",
      "3 9 0.7542853595785365\n",
      "4 5 0.779574127045546\n",
      "4 6 0.8003769450338337\n",
      "4 7 0.7960182732420245\n",
      "4 8 0.8123628151810484\n",
      "4 9 0.9267819132897774\n",
      "5 6 0.7876833674011516\n",
      "5 7 0.7411338635841054\n",
      "5 8 0.9124726473785157\n",
      "5 9 0.8229886302568492\n",
      "6 8 0.7899411440674529\n",
      "6 9 0.7618184385755323\n",
      "7 8 0.7683444716993767\n",
      "7 9 0.8926603942774431\n",
      "8 9 0.8558735139796305\n"
     ]
    }
   ],
   "source": [
    "for i, a in enumerate(digit_average_ls):\n",
    "    for j, b in enumerate(digit_average_ls):\n",
    "        if i < j:\n",
    "            a = a.flatten()\n",
    "            b = b.flatten()\n",
    "            cos_sim = get_cosine_similarity(a,b)\n",
    "            if cos_sim > 0.7:\n",
    "                print(i, j, cos_sim)"
   ]
  },
  {
   "cell_type": "markdown",
   "id": "73de9e98",
   "metadata": {
    "papermill": {
     "duration": 0.037582,
     "end_time": "2022-03-29T09:54:09.660669",
     "exception": false,
     "start_time": "2022-03-29T09:54:09.623087",
     "status": "completed"
    },
    "tags": []
   },
   "source": [
    "The similarity scores between the average shapes are very high. Given that we consider all 28x28 pixels, there are a large black area surrounding the number that may count towards the similarity score. Therefore, we decide to apply PCA, that is compute the axes with highest variances in the dataset and reduce the dataset's dimensionality down to 25. After reducing the dimensionality of the average shapes, we obtain better similarity scores."
   ]
  },
  {
   "cell_type": "markdown",
   "id": "af685a1e",
   "metadata": {
    "papermill": {
     "duration": 0.037614,
     "end_time": "2022-03-29T09:54:09.736130",
     "exception": false,
     "start_time": "2022-03-29T09:54:09.698516",
     "status": "completed"
    },
    "tags": []
   },
   "source": [
    "## Apply PCA"
   ]
  },
  {
   "cell_type": "code",
   "execution_count": 10,
   "id": "f8bc703a",
   "metadata": {
    "execution": {
     "iopub.execute_input": "2022-03-29T09:54:09.817674Z",
     "iopub.status.busy": "2022-03-29T09:54:09.816905Z",
     "iopub.status.idle": "2022-03-29T09:54:09.820650Z",
     "shell.execute_reply": "2022-03-29T09:54:09.820086Z",
     "shell.execute_reply.started": "2022-03-29T09:43:18.983117Z"
    },
    "papermill": {
     "duration": 0.046766,
     "end_time": "2022-03-29T09:54:09.820796",
     "exception": false,
     "start_time": "2022-03-29T09:54:09.774030",
     "status": "completed"
    },
    "tags": []
   },
   "outputs": [
    {
     "data": {
      "text/plain": [
       "(42000, 784)"
      ]
     },
     "execution_count": 10,
     "metadata": {},
     "output_type": "execute_result"
    }
   ],
   "source": [
    "data_flatten = np.reshape(data, (data.shape[0], 28*28))\n",
    "data_flatten.shape"
   ]
  },
  {
   "cell_type": "code",
   "execution_count": 11,
   "id": "56ec0b42",
   "metadata": {
    "execution": {
     "iopub.execute_input": "2022-03-29T09:54:09.901578Z",
     "iopub.status.busy": "2022-03-29T09:54:09.900796Z",
     "iopub.status.idle": "2022-03-29T09:54:13.603609Z",
     "shell.execute_reply": "2022-03-29T09:54:13.603090Z",
     "shell.execute_reply.started": "2022-03-29T09:43:18.991322Z"
    },
    "papermill": {
     "duration": 3.744457,
     "end_time": "2022-03-29T09:54:13.603763",
     "exception": false,
     "start_time": "2022-03-29T09:54:09.859306",
     "status": "completed"
    },
    "tags": []
   },
   "outputs": [
    {
     "data": {
      "text/plain": [
       "PCA(n_components=25)"
      ]
     },
     "execution_count": 11,
     "metadata": {},
     "output_type": "execute_result"
    }
   ],
   "source": [
    "pca = PCA(n_components=25)\n",
    "pca.fit(data_flatten)"
   ]
  },
  {
   "cell_type": "code",
   "execution_count": 12,
   "id": "5de96389",
   "metadata": {
    "execution": {
     "iopub.execute_input": "2022-03-29T09:54:13.685285Z",
     "iopub.status.busy": "2022-03-29T09:54:13.684648Z",
     "iopub.status.idle": "2022-03-29T09:54:13.689425Z",
     "shell.execute_reply": "2022-03-29T09:54:13.689937Z",
     "shell.execute_reply.started": "2022-03-29T09:43:22.540710Z"
    },
    "papermill": {
     "duration": 0.046884,
     "end_time": "2022-03-29T09:54:13.690106",
     "exception": false,
     "start_time": "2022-03-29T09:54:13.643222",
     "status": "completed"
    },
    "tags": []
   },
   "outputs": [],
   "source": [
    "digit_averages_flatten = np.reshape(digit_average_ls, (digit_average_ls.shape[0], 28*28))\n",
    "digit_averages_pca = pca.transform(digit_averages_flatten)"
   ]
  },
  {
   "cell_type": "code",
   "execution_count": 13,
   "id": "248dead6",
   "metadata": {
    "execution": {
     "iopub.execute_input": "2022-03-29T09:54:13.771063Z",
     "iopub.status.busy": "2022-03-29T09:54:13.770389Z",
     "iopub.status.idle": "2022-03-29T09:54:13.777870Z",
     "shell.execute_reply": "2022-03-29T09:54:13.778635Z",
     "shell.execute_reply.started": "2022-03-29T09:43:22.550396Z"
    },
    "papermill": {
     "duration": 0.049821,
     "end_time": "2022-03-29T09:54:13.778853",
     "exception": false,
     "start_time": "2022-03-29T09:54:13.729032",
     "status": "completed"
    },
    "tags": []
   },
   "outputs": [
    {
     "name": "stdout",
     "output_type": "stream",
     "text": [
      "4 9 0.6513802688768567\n",
      "7 9 0.560298214958644\n"
     ]
    }
   ],
   "source": [
    "for i, a in enumerate(digit_averages_pca):\n",
    "    for j, b in enumerate(digit_averages_pca):\n",
    "        if i < j:\n",
    "            cos_sim = get_cosine_similarity(a,b)\n",
    "            if cos_sim > 0.5: # there are still 2 pairs with similarity higher than 0.5\n",
    "                print(i, j, cos_sim)"
   ]
  },
  {
   "cell_type": "markdown",
   "id": "a2266f77",
   "metadata": {
    "papermill": {
     "duration": 0.038832,
     "end_time": "2022-03-29T09:54:13.857453",
     "exception": false,
     "start_time": "2022-03-29T09:54:13.818621",
     "status": "completed"
    },
    "tags": []
   },
   "source": [
    "# Model"
   ]
  },
  {
   "cell_type": "markdown",
   "id": "11d24c82",
   "metadata": {
    "papermill": {
     "duration": 0.040025,
     "end_time": "2022-03-29T09:54:13.936387",
     "exception": false,
     "start_time": "2022-03-29T09:54:13.896362",
     "status": "completed"
    },
    "tags": []
   },
   "source": [
    "## Prepare train & val sets for training"
   ]
  },
  {
   "cell_type": "code",
   "execution_count": 14,
   "id": "4b53b84d",
   "metadata": {
    "execution": {
     "iopub.execute_input": "2022-03-29T09:54:14.020539Z",
     "iopub.status.busy": "2022-03-29T09:54:14.019583Z",
     "iopub.status.idle": "2022-03-29T09:54:14.077427Z",
     "shell.execute_reply": "2022-03-29T09:54:14.078166Z",
     "shell.execute_reply.started": "2022-03-29T08:41:17.046036Z"
    },
    "papermill": {
     "duration": 0.102915,
     "end_time": "2022-03-29T09:54:14.078359",
     "exception": false,
     "start_time": "2022-03-29T09:54:13.975444",
     "status": "completed"
    },
    "tags": []
   },
   "outputs": [],
   "source": [
    "# change the label from digits to representative vectors\n",
    "full_data_label = np.zeros((data.shape[0], digit_averages_pca.shape[1]))\n",
    "for i, row in enumerate(label):\n",
    "    full_data_label[i] = digit_averages_pca[row]"
   ]
  },
  {
   "cell_type": "code",
   "execution_count": 15,
   "id": "dfd875ad",
   "metadata": {
    "execution": {
     "iopub.execute_input": "2022-03-29T09:54:14.159627Z",
     "iopub.status.busy": "2022-03-29T09:54:14.158995Z",
     "iopub.status.idle": "2022-03-29T09:54:14.636337Z",
     "shell.execute_reply": "2022-03-29T09:54:14.635804Z",
     "shell.execute_reply.started": "2022-03-29T08:41:45.182476Z"
    },
    "papermill": {
     "duration": 0.51902,
     "end_time": "2022-03-29T09:54:14.636494",
     "exception": false,
     "start_time": "2022-03-29T09:54:14.117474",
     "status": "completed"
    },
    "tags": []
   },
   "outputs": [
    {
     "data": {
      "text/plain": [
       "(4200, 28, 28, 1)"
      ]
     },
     "execution_count": 15,
     "metadata": {},
     "output_type": "execute_result"
    }
   ],
   "source": [
    "X_train, X_val, y_train, y_val = train_test_split(data, full_data_label, test_size=0.1, random_state=42)\n",
    "X_val.shape"
   ]
  },
  {
   "cell_type": "markdown",
   "id": "93429ff4",
   "metadata": {
    "papermill": {
     "duration": 0.039039,
     "end_time": "2022-03-29T09:54:14.715953",
     "exception": false,
     "start_time": "2022-03-29T09:54:14.676914",
     "status": "completed"
    },
    "tags": []
   },
   "source": [
    "## Apply data augmentation using Datagen"
   ]
  },
  {
   "cell_type": "code",
   "execution_count": 16,
   "id": "5a129717",
   "metadata": {
    "execution": {
     "iopub.execute_input": "2022-03-29T09:54:14.801687Z",
     "iopub.status.busy": "2022-03-29T09:54:14.800999Z",
     "iopub.status.idle": "2022-03-29T09:54:14.804038Z",
     "shell.execute_reply": "2022-03-29T09:54:14.803504Z",
     "shell.execute_reply.started": "2022-03-29T08:42:07.640677Z"
    },
    "papermill": {
     "duration": 0.048802,
     "end_time": "2022-03-29T09:54:14.804188",
     "exception": false,
     "start_time": "2022-03-29T09:54:14.755386",
     "status": "completed"
    },
    "tags": []
   },
   "outputs": [],
   "source": [
    "train_datagen = ImageDataGenerator(\n",
    "        rescale=1./255,\n",
    "        shear_range=0.2,\n",
    "        rotation_range=30,\n",
    "        zoom_range=0.2,\n",
    "        fill_mode='constant')\n",
    "\n",
    "val_datagen = ImageDataGenerator(\n",
    "        rescale=1./255)"
   ]
  },
  {
   "cell_type": "code",
   "execution_count": 17,
   "id": "8ce79ff7",
   "metadata": {
    "execution": {
     "iopub.execute_input": "2022-03-29T09:54:14.889815Z",
     "iopub.status.busy": "2022-03-29T09:54:14.889151Z",
     "iopub.status.idle": "2022-03-29T09:54:14.981965Z",
     "shell.execute_reply": "2022-03-29T09:54:14.981259Z",
     "shell.execute_reply.started": "2022-03-29T08:42:07.899455Z"
    },
    "papermill": {
     "duration": 0.138407,
     "end_time": "2022-03-29T09:54:14.982108",
     "exception": false,
     "start_time": "2022-03-29T09:54:14.843701",
     "status": "completed"
    },
    "tags": []
   },
   "outputs": [],
   "source": [
    "train_generator = train_datagen.flow(X_train, y_train, batch_size=32)\n",
    "val_generator = val_datagen.flow(X_val, y_val, batch_size=32)"
   ]
  },
  {
   "cell_type": "code",
   "execution_count": 18,
   "id": "20a6ce4a",
   "metadata": {
    "execution": {
     "iopub.execute_input": "2022-03-29T09:54:15.067289Z",
     "iopub.status.busy": "2022-03-29T09:54:15.066612Z",
     "iopub.status.idle": "2022-03-29T09:54:15.069734Z",
     "shell.execute_reply": "2022-03-29T09:54:15.069174Z",
     "shell.execute_reply.started": "2022-03-25T08:46:05.387947Z"
    },
    "papermill": {
     "duration": 0.048381,
     "end_time": "2022-03-29T09:54:15.069872",
     "exception": false,
     "start_time": "2022-03-29T09:54:15.021491",
     "status": "completed"
    },
    "tags": []
   },
   "outputs": [],
   "source": [
    "## Visualise data in one batch\n",
    "# for x, y in train_generator:\n",
    "#     for i, each_x in enumerate(x):\n",
    "#         each_x = np.squeeze(each_x)\n",
    "#         plt.imshow(each_x, cmap='gray')\n",
    "#         plt.show()\n",
    "#     break"
   ]
  },
  {
   "cell_type": "markdown",
   "id": "f13d1368",
   "metadata": {
    "papermill": {
     "duration": 0.038947,
     "end_time": "2022-03-29T09:54:15.148403",
     "exception": false,
     "start_time": "2022-03-29T09:54:15.109456",
     "status": "completed"
    },
    "tags": []
   },
   "source": [
    "## Train model"
   ]
  },
  {
   "cell_type": "markdown",
   "id": "1d0687dd",
   "metadata": {
    "papermill": {
     "duration": 0.040383,
     "end_time": "2022-03-29T09:54:15.228604",
     "exception": false,
     "start_time": "2022-03-29T09:54:15.188221",
     "status": "completed"
    },
    "tags": []
   },
   "source": [
    "Our objective is to maximise the similarity (in other words, minimise the difference) between the generated vector and the true representative vector.  Therefore, our loss function:\n",
    "1. Calculates the cosine similarity between `y_true` and `y_pred`.    \n",
    "2. Return `1-similarity` which is the difference between `y_true` and `y_pred`."
   ]
  },
  {
   "cell_type": "code",
   "execution_count": 19,
   "id": "a73de6c8",
   "metadata": {
    "execution": {
     "iopub.execute_input": "2022-03-29T09:54:15.312032Z",
     "iopub.status.busy": "2022-03-29T09:54:15.311352Z",
     "iopub.status.idle": "2022-03-29T09:54:15.316206Z",
     "shell.execute_reply": "2022-03-29T09:54:15.316725Z",
     "shell.execute_reply.started": "2022-03-29T08:54:49.041418Z"
    },
    "papermill": {
     "duration": 0.048916,
     "end_time": "2022-03-29T09:54:15.316903",
     "exception": false,
     "start_time": "2022-03-29T09:54:15.267987",
     "status": "completed"
    },
    "tags": []
   },
   "outputs": [],
   "source": [
    "def loss_fn(y_true, y_pred):\n",
    "    dot_product = tf.reduce_sum(tf.multiply(y_true, y_pred))\n",
    "    norm_y_true = tf.norm(y_true)\n",
    "    norm_y_pred = tf.norm(y_pred)\n",
    "    similarity = dot_product / (norm_y_true * norm_y_pred)\n",
    "    return 1-similarity"
   ]
  },
  {
   "cell_type": "code",
   "execution_count": 20,
   "id": "94434e4a",
   "metadata": {
    "execution": {
     "iopub.execute_input": "2022-03-29T09:54:15.399085Z",
     "iopub.status.busy": "2022-03-29T09:54:15.398402Z",
     "iopub.status.idle": "2022-03-29T10:54:14.722312Z",
     "shell.execute_reply": "2022-03-29T10:54:14.721588Z",
     "shell.execute_reply.started": "2022-03-29T08:54:52.277797Z"
    },
    "papermill": {
     "duration": 3599.366383,
     "end_time": "2022-03-29T10:54:14.722513",
     "exception": false,
     "start_time": "2022-03-29T09:54:15.356130",
     "status": "completed"
    },
    "tags": []
   },
   "outputs": [
    {
     "name": "stderr",
     "output_type": "stream",
     "text": [
      "2022-03-29 09:54:15.450609: I tensorflow/core/common_runtime/process_util.cc:146] Creating new thread pool with default inter op setting: 2. Tune using inter_op_parallelism_threads for best performance.\n",
      "2022-03-29 09:54:15.673553: I tensorflow/compiler/mlir/mlir_graph_optimization_pass.cc:185] None of the MLIR Optimization Passes are enabled (registered 2)\n"
     ]
    },
    {
     "name": "stdout",
     "output_type": "stream",
     "text": [
      "Epoch 1/50\n",
      "1181/1181 [==============================] - 42s 35ms/step - loss: 0.0804 - val_loss: 0.0255\n",
      "Epoch 2/50\n",
      "1181/1181 [==============================] - 41s 35ms/step - loss: 0.0310 - val_loss: 0.0198\n",
      "Epoch 3/50\n",
      "1181/1181 [==============================] - 42s 35ms/step - loss: 0.0244 - val_loss: 0.0180\n",
      "Epoch 4/50\n",
      "1181/1181 [==============================] - 41s 35ms/step - loss: 0.0209 - val_loss: 0.0158\n",
      "Epoch 5/50\n",
      "1181/1181 [==============================] - 45s 38ms/step - loss: 0.0188 - val_loss: 0.0155\n",
      "Epoch 6/50\n",
      "1181/1181 [==============================] - 45s 38ms/step - loss: 0.0168 - val_loss: 0.0144\n",
      "Epoch 7/50\n",
      "1181/1181 [==============================] - 45s 38ms/step - loss: 0.0154 - val_loss: 0.0122\n",
      "Epoch 8/50\n",
      "1181/1181 [==============================] - 43s 36ms/step - loss: 0.0146 - val_loss: 0.0136\n",
      "Epoch 9/50\n",
      "1181/1181 [==============================] - 45s 38ms/step - loss: 0.0137 - val_loss: 0.0123\n",
      "Epoch 10/50\n",
      "1181/1181 [==============================] - 46s 39ms/step - loss: 0.0126 - val_loss: 0.0118\n",
      "Epoch 11/50\n",
      "1181/1181 [==============================] - 45s 38ms/step - loss: 0.0123 - val_loss: 0.0107\n",
      "Epoch 12/50\n",
      "1181/1181 [==============================] - 46s 39ms/step - loss: 0.0115 - val_loss: 0.0107\n",
      "Epoch 13/50\n",
      "1181/1181 [==============================] - 44s 37ms/step - loss: 0.0107 - val_loss: 0.0097\n",
      "Epoch 14/50\n",
      "1181/1181 [==============================] - 45s 38ms/step - loss: 0.0102 - val_loss: 0.0113\n",
      "Epoch 15/50\n",
      "1181/1181 [==============================] - 43s 37ms/step - loss: 0.0100 - val_loss: 0.0091\n",
      "Epoch 16/50\n",
      "1181/1181 [==============================] - 44s 37ms/step - loss: 0.0096 - val_loss: 0.0094\n",
      "Epoch 17/50\n",
      "1181/1181 [==============================] - 42s 36ms/step - loss: 0.0092 - val_loss: 0.0088\n",
      "Epoch 18/50\n",
      "1181/1181 [==============================] - 43s 37ms/step - loss: 0.0085 - val_loss: 0.0087\n",
      "Epoch 19/50\n",
      "1181/1181 [==============================] - 44s 37ms/step - loss: 0.0085 - val_loss: 0.0077\n",
      "Epoch 20/50\n",
      "1181/1181 [==============================] - 43s 36ms/step - loss: 0.0082 - val_loss: 0.0085\n",
      "Epoch 21/50\n",
      "1181/1181 [==============================] - 42s 35ms/step - loss: 0.0082 - val_loss: 0.0094\n",
      "Epoch 22/50\n",
      "1181/1181 [==============================] - 42s 36ms/step - loss: 0.0078 - val_loss: 0.0083\n",
      "Epoch 23/50\n",
      "1181/1181 [==============================] - 43s 36ms/step - loss: 0.0072 - val_loss: 0.0077\n",
      "Epoch 24/50\n",
      "1181/1181 [==============================] - 43s 36ms/step - loss: 0.0074 - val_loss: 0.0080\n",
      "Epoch 25/50\n",
      "1181/1181 [==============================] - 42s 36ms/step - loss: 0.0070 - val_loss: 0.0079\n",
      "Epoch 26/50\n",
      "1181/1181 [==============================] - 43s 37ms/step - loss: 0.0068 - val_loss: 0.0077\n",
      "Epoch 27/50\n",
      "1181/1181 [==============================] - 44s 37ms/step - loss: 0.0064 - val_loss: 0.0077\n",
      "Epoch 28/50\n",
      "1181/1181 [==============================] - 42s 36ms/step - loss: 0.0066 - val_loss: 0.0073\n",
      "Epoch 29/50\n",
      "1181/1181 [==============================] - 43s 37ms/step - loss: 0.0065 - val_loss: 0.0070\n",
      "Epoch 30/50\n",
      "1181/1181 [==============================] - 45s 38ms/step - loss: 0.0062 - val_loss: 0.0069\n",
      "Epoch 31/50\n",
      "1181/1181 [==============================] - 47s 40ms/step - loss: 0.0060 - val_loss: 0.0063\n",
      "Epoch 32/50\n",
      "1181/1181 [==============================] - 46s 39ms/step - loss: 0.0057 - val_loss: 0.0065\n",
      "Epoch 33/50\n",
      "1181/1181 [==============================] - 45s 38ms/step - loss: 0.0055 - val_loss: 0.0072\n",
      "Epoch 34/50\n",
      "1181/1181 [==============================] - 41s 35ms/step - loss: 0.0057 - val_loss: 0.0073\n",
      "Epoch 35/50\n",
      "1181/1181 [==============================] - 44s 37ms/step - loss: 0.0054 - val_loss: 0.0066\n",
      "Epoch 36/50\n",
      "1181/1181 [==============================] - 42s 35ms/step - loss: 0.0053 - val_loss: 0.0063\n",
      "Epoch 37/50\n",
      "1181/1181 [==============================] - 44s 37ms/step - loss: 0.0051 - val_loss: 0.0070\n",
      "Epoch 38/50\n",
      "1181/1181 [==============================] - 41s 35ms/step - loss: 0.0049 - val_loss: 0.0068\n",
      "Epoch 39/50\n",
      "1181/1181 [==============================] - 44s 37ms/step - loss: 0.0051 - val_loss: 0.0064\n",
      "Epoch 40/50\n",
      "1181/1181 [==============================] - 41s 35ms/step - loss: 0.0049 - val_loss: 0.0066\n",
      "Epoch 41/50\n",
      "1181/1181 [==============================] - 45s 38ms/step - loss: 0.0046 - val_loss: 0.0061\n",
      "Epoch 42/50\n",
      "1181/1181 [==============================] - 43s 36ms/step - loss: 0.0048 - val_loss: 0.0062\n",
      "Epoch 43/50\n",
      "1181/1181 [==============================] - 47s 40ms/step - loss: 0.0048 - val_loss: 0.0066\n",
      "Epoch 44/50\n",
      "1181/1181 [==============================] - 42s 36ms/step - loss: 0.0044 - val_loss: 0.0061\n",
      "Epoch 45/50\n",
      "1181/1181 [==============================] - 45s 38ms/step - loss: 0.0044 - val_loss: 0.0066\n",
      "Epoch 46/50\n",
      "1181/1181 [==============================] - 41s 35ms/step - loss: 0.0045 - val_loss: 0.0060\n",
      "Epoch 47/50\n",
      "1181/1181 [==============================] - 45s 38ms/step - loss: 0.0045 - val_loss: 0.0062\n",
      "Epoch 48/50\n",
      "1181/1181 [==============================] - 41s 34ms/step - loss: 0.0046 - val_loss: 0.0063\n",
      "Epoch 49/50\n",
      "1181/1181 [==============================] - 45s 38ms/step - loss: 0.0041 - val_loss: 0.0058\n",
      "Epoch 50/50\n",
      "1181/1181 [==============================] - 42s 35ms/step - loss: 0.0043 - val_loss: 0.0057\n"
     ]
    }
   ],
   "source": [
    "model = Sequential([\n",
    "    Conv2D(filters=32, kernel_size=(3,3), padding='same', activation='relu',\n",
    "                 input_shape=[28,28,1]),\n",
    "    MaxPool2D(pool_size=(2,2), padding='same'),\n",
    "    Dropout(rate=0.2),\n",
    "    \n",
    "    Conv2D(filters=64, kernel_size=(3,3), padding='same', activation='relu'),\n",
    "    MaxPool2D(pool_size=(2,2), padding='same'),\n",
    "\n",
    "    Conv2D(filters=128, kernel_size=(3,3), padding='same', activation='relu'),\n",
    "    MaxPool2D(pool_size=(2,2), padding='same'),\n",
    "\n",
    "    Flatten(),\n",
    "    Dense(256, activation = 'relu'),\n",
    "    Dense(25)\n",
    "])\n",
    "\n",
    "model.compile('adam', loss = loss_fn)\n",
    "batch_size = 32\n",
    "history = model.fit(train_generator, steps_per_epoch = X_train.shape[0] // batch_size, \n",
    "                                   epochs=50, \n",
    "                                   validation_data = val_generator,\n",
    "                                   validation_steps = X_val.shape[0] // batch_size)"
   ]
  },
  {
   "cell_type": "code",
   "execution_count": 21,
   "id": "2a73eeda",
   "metadata": {
    "execution": {
     "iopub.execute_input": "2022-03-29T10:54:37.252616Z",
     "iopub.status.busy": "2022-03-29T10:54:37.251582Z",
     "iopub.status.idle": "2022-03-29T10:54:37.820331Z",
     "shell.execute_reply": "2022-03-29T10:54:37.819693Z",
     "shell.execute_reply.started": "2022-03-29T09:33:38.953166Z"
    },
    "papermill": {
     "duration": 11.884838,
     "end_time": "2022-03-29T10:54:37.820516",
     "exception": false,
     "start_time": "2022-03-29T10:54:25.935678",
     "status": "completed"
    },
    "tags": []
   },
   "outputs": [
    {
     "data": {
      "text/plain": [
       "[<matplotlib.lines.Line2D at 0x7ff22fc1ff10>]"
      ]
     },
     "execution_count": 21,
     "metadata": {},
     "output_type": "execute_result"
    },
    {
     "data": {
      "image/png": "[encoded data removed]",
      "text/plain": [
       "<Figure size 432x288 with 1 Axes>"
      ]
     },
     "metadata": {
      "needs_background": "light"
     },
     "output_type": "display_data"
    }
   ],
   "source": [
    "# Visualise result\n",
    "\n",
    "plt.plot(history.history['loss'])\n",
    "plt.plot(history.history['val_loss'])"
   ]
  },
  {
   "cell_type": "markdown",
   "id": "92b82e89",
   "metadata": {
    "papermill": {
     "duration": 11.422537,
     "end_time": "2022-03-29T10:55:00.620828",
     "exception": false,
     "start_time": "2022-03-29T10:54:49.198291",
     "status": "completed"
    },
    "tags": []
   },
   "source": [
    "# Test model"
   ]
  },
  {
   "cell_type": "code",
   "execution_count": 22,
   "id": "bccf1316",
   "metadata": {
    "execution": {
     "iopub.execute_input": "2022-03-29T10:55:23.280877Z",
     "iopub.status.busy": "2022-03-29T10:55:23.280191Z",
     "iopub.status.idle": "2022-03-29T10:55:25.508156Z",
     "shell.execute_reply": "2022-03-29T10:55:25.507595Z",
     "shell.execute_reply.started": "2022-03-29T09:33:42.130583Z"
    },
    "papermill": {
     "duration": 13.649851,
     "end_time": "2022-03-29T10:55:25.508323",
     "exception": false,
     "start_time": "2022-03-29T10:55:11.858472",
     "status": "completed"
    },
    "tags": []
   },
   "outputs": [
    {
     "data": {
      "text/html": [
       "<div>\n",
       "<style scoped>\n",
       "    .dataframe tbody tr th:only-of-type {\n",
       "        vertical-align: middle;\n",
       "    }\n",
       "\n",
       "    .dataframe tbody tr th {\n",
       "        vertical-align: top;\n",
       "    }\n",
       "\n",
       "    .dataframe thead th {\n",
       "        text-align: right;\n",
       "    }\n",
       "</style>\n",
       "<table border=\"1\" class=\"dataframe\">\n",
       "  <thead>\n",
       "    <tr style=\"text-align: right;\">\n",
       "      <th></th>\n",
       "      <th>pixel0</th>\n",
       "      <th>pixel1</th>\n",
       "      <th>pixel2</th>\n",
       "      <th>pixel3</th>\n",
       "      <th>pixel4</th>\n",
       "      <th>pixel5</th>\n",
       "      <th>pixel6</th>\n",
       "      <th>pixel7</th>\n",
       "      <th>pixel8</th>\n",
       "      <th>pixel9</th>\n",
       "      <th>...</th>\n",
       "      <th>pixel774</th>\n",
       "      <th>pixel775</th>\n",
       "      <th>pixel776</th>\n",
       "      <th>pixel777</th>\n",
       "      <th>pixel778</th>\n",
       "      <th>pixel779</th>\n",
       "      <th>pixel780</th>\n",
       "      <th>pixel781</th>\n",
       "      <th>pixel782</th>\n",
       "      <th>pixel783</th>\n",
       "    </tr>\n",
       "  </thead>\n",
       "  <tbody>\n",
       "    <tr>\n",
       "      <th>0</th>\n",
       "      <td>0</td>\n",
       "      <td>0</td>\n",
       "      <td>0</td>\n",
       "      <td>0</td>\n",
       "      <td>0</td>\n",
       "      <td>0</td>\n",
       "      <td>0</td>\n",
       "      <td>0</td>\n",
       "      <td>0</td>\n",
       "      <td>0</td>\n",
       "      <td>...</td>\n",
       "      <td>0</td>\n",
       "      <td>0</td>\n",
       "      <td>0</td>\n",
       "      <td>0</td>\n",
       "      <td>0</td>\n",
       "      <td>0</td>\n",
       "      <td>0</td>\n",
       "      <td>0</td>\n",
       "      <td>0</td>\n",
       "      <td>0</td>\n",
       "    </tr>\n",
       "    <tr>\n",
       "      <th>1</th>\n",
       "      <td>0</td>\n",
       "      <td>0</td>\n",
       "      <td>0</td>\n",
       "      <td>0</td>\n",
       "      <td>0</td>\n",
       "      <td>0</td>\n",
       "      <td>0</td>\n",
       "      <td>0</td>\n",
       "      <td>0</td>\n",
       "      <td>0</td>\n",
       "      <td>...</td>\n",
       "      <td>0</td>\n",
       "      <td>0</td>\n",
       "      <td>0</td>\n",
       "      <td>0</td>\n",
       "      <td>0</td>\n",
       "      <td>0</td>\n",
       "      <td>0</td>\n",
       "      <td>0</td>\n",
       "      <td>0</td>\n",
       "      <td>0</td>\n",
       "    </tr>\n",
       "    <tr>\n",
       "      <th>2</th>\n",
       "      <td>0</td>\n",
       "      <td>0</td>\n",
       "      <td>0</td>\n",
       "      <td>0</td>\n",
       "      <td>0</td>\n",
       "      <td>0</td>\n",
       "      <td>0</td>\n",
       "      <td>0</td>\n",
       "      <td>0</td>\n",
       "      <td>0</td>\n",
       "      <td>...</td>\n",
       "      <td>0</td>\n",
       "      <td>0</td>\n",
       "      <td>0</td>\n",
       "      <td>0</td>\n",
       "      <td>0</td>\n",
       "      <td>0</td>\n",
       "      <td>0</td>\n",
       "      <td>0</td>\n",
       "      <td>0</td>\n",
       "      <td>0</td>\n",
       "    </tr>\n",
       "    <tr>\n",
       "      <th>3</th>\n",
       "      <td>0</td>\n",
       "      <td>0</td>\n",
       "      <td>0</td>\n",
       "      <td>0</td>\n",
       "      <td>0</td>\n",
       "      <td>0</td>\n",
       "      <td>0</td>\n",
       "      <td>0</td>\n",
       "      <td>0</td>\n",
       "      <td>0</td>\n",
       "      <td>...</td>\n",
       "      <td>0</td>\n",
       "      <td>0</td>\n",
       "      <td>0</td>\n",
       "      <td>0</td>\n",
       "      <td>0</td>\n",
       "      <td>0</td>\n",
       "      <td>0</td>\n",
       "      <td>0</td>\n",
       "      <td>0</td>\n",
       "      <td>0</td>\n",
       "    </tr>\n",
       "    <tr>\n",
       "      <th>4</th>\n",
       "      <td>0</td>\n",
       "      <td>0</td>\n",
       "      <td>0</td>\n",
       "      <td>0</td>\n",
       "      <td>0</td>\n",
       "      <td>0</td>\n",
       "      <td>0</td>\n",
       "      <td>0</td>\n",
       "      <td>0</td>\n",
       "      <td>0</td>\n",
       "      <td>...</td>\n",
       "      <td>0</td>\n",
       "      <td>0</td>\n",
       "      <td>0</td>\n",
       "      <td>0</td>\n",
       "      <td>0</td>\n",
       "      <td>0</td>\n",
       "      <td>0</td>\n",
       "      <td>0</td>\n",
       "      <td>0</td>\n",
       "      <td>0</td>\n",
       "    </tr>\n",
       "  </tbody>\n",
       "</table>\n",
       "<p>5 rows × 784 columns</p>\n",
       "</div>"
      ],
      "text/plain": [
       "   pixel0  pixel1  pixel2  pixel3  pixel4  pixel5  pixel6  pixel7  pixel8  \\\n",
       "0       0       0       0       0       0       0       0       0       0   \n",
       "1       0       0       0       0       0       0       0       0       0   \n",
       "2       0       0       0       0       0       0       0       0       0   \n",
       "3       0       0       0       0       0       0       0       0       0   \n",
       "4       0       0       0       0       0       0       0       0       0   \n",
       "\n",
       "   pixel9  ...  pixel774  pixel775  pixel776  pixel777  pixel778  pixel779  \\\n",
       "0       0  ...         0         0         0         0         0         0   \n",
       "1       0  ...         0         0         0         0         0         0   \n",
       "2       0  ...         0         0         0         0         0         0   \n",
       "3       0  ...         0         0         0         0         0         0   \n",
       "4       0  ...         0         0         0         0         0         0   \n",
       "\n",
       "   pixel780  pixel781  pixel782  pixel783  \n",
       "0         0         0         0         0  \n",
       "1         0         0         0         0  \n",
       "2         0         0         0         0  \n",
       "3         0         0         0         0  \n",
       "4         0         0         0         0  \n",
       "\n",
       "[5 rows x 784 columns]"
      ]
     },
     "execution_count": 22,
     "metadata": {},
     "output_type": "execute_result"
    }
   ],
   "source": [
    "test_df = pd.read_csv(r'/kaggle/input/digit-recognizer/test.csv')\n",
    "test_df.head()"
   ]
  },
  {
   "cell_type": "code",
   "execution_count": 23,
   "id": "1512e127",
   "metadata": {
    "execution": {
     "iopub.execute_input": "2022-03-29T10:55:48.165864Z",
     "iopub.status.busy": "2022-03-29T10:55:48.165202Z",
     "iopub.status.idle": "2022-03-29T10:55:54.763410Z",
     "shell.execute_reply": "2022-03-29T10:55:54.763961Z",
     "shell.execute_reply.started": "2022-03-29T09:33:44.397935Z"
    },
    "papermill": {
     "duration": 17.949063,
     "end_time": "2022-03-29T10:55:54.764194",
     "exception": false,
     "start_time": "2022-03-29T10:55:36.815131",
     "status": "completed"
    },
    "tags": []
   },
   "outputs": [],
   "source": [
    "test_data = test_df.values\n",
    "test_data = np.reshape(test_data, (-1, 28,28,1))\n",
    "test_data_scaled = test_data/255.\n",
    "\n",
    "test_pred = model.predict(test_data_scaled)"
   ]
  },
  {
   "cell_type": "code",
   "execution_count": 24,
   "id": "dc5c86ec",
   "metadata": {
    "execution": {
     "iopub.execute_input": "2022-03-29T10:56:17.303625Z",
     "iopub.status.busy": "2022-03-29T10:56:17.302990Z",
     "iopub.status.idle": "2022-03-29T10:56:24.532548Z",
     "shell.execute_reply": "2022-03-29T10:56:24.531949Z",
     "shell.execute_reply.started": "2022-03-29T09:33:52.061774Z"
    },
    "papermill": {
     "duration": 18.594116,
     "end_time": "2022-03-29T10:56:24.532691",
     "exception": false,
     "start_time": "2022-03-29T10:56:05.938575",
     "status": "completed"
    },
    "tags": []
   },
   "outputs": [],
   "source": [
    "test_pred_label = np.zeros(test_pred.shape[0])\n",
    "for i, each_pred in enumerate(test_pred):\n",
    "    pred_similarities = np.array([np.abs(get_cosine_similarity(test_pred[i], centroid)) for centroid in digit_averages_pca])\n",
    "    pred_label = np.argmax(pred_similarities)\n",
    "    test_pred_label[i] = pred_label\n",
    "test_pred_label = np.array(test_pred_label, dtype = np.int8)"
   ]
  },
  {
   "cell_type": "code",
   "execution_count": 25,
   "id": "224a351b",
   "metadata": {
    "execution": {
     "iopub.execute_input": "2022-03-29T10:56:47.051916Z",
     "iopub.status.busy": "2022-03-29T10:56:47.051095Z",
     "iopub.status.idle": "2022-03-29T10:56:47.125635Z",
     "shell.execute_reply": "2022-03-29T10:56:47.126243Z",
     "shell.execute_reply.started": "2022-03-29T09:33:59.204401Z"
    },
    "papermill": {
     "duration": 11.314604,
     "end_time": "2022-03-29T10:56:47.126460",
     "exception": false,
     "start_time": "2022-03-29T10:56:35.811856",
     "status": "completed"
    },
    "tags": []
   },
   "outputs": [],
   "source": [
    "sample_submission = pd.read_csv(r'/kaggle/input/digit-recognizer/sample_submission.csv')\n",
    "image_id = sample_submission['ImageId']\n",
    "\n",
    "result = {'ImageId' : image_id,\n",
    "          'Label' : test_pred_label}\n",
    "\n",
    "result_df = pd.DataFrame.from_dict(data=result)\n",
    "result_df.to_csv('./submission.csv', index=False)"
   ]
  },
  {
   "cell_type": "markdown",
   "id": "215df4f7",
   "metadata": {
    "papermill": {
     "duration": 11.344554,
     "end_time": "2022-03-29T10:57:09.622016",
     "exception": false,
     "start_time": "2022-03-29T10:56:58.277462",
     "status": "completed"
    },
    "tags": []
   },
   "source": [
    "# Conclusion \n",
    "\n",
    "Using this approach, we achieved the best accuracy of **0.99400**. To improve this approach, we can use a different technique of creating the representative vector (such that all pairs have similarity score strictly below 0.5 or even lower). And with more extensive hyperparameter tuning, we can get better accuracy. "
   ]
  }
 ],
 "metadata": {
  "kernelspec": {
   "display_name": "Python 3",
   "language": "python",
   "name": "python3"
  },
  "language_info": {
   "codemirror_mode": {
    "name": "ipython",
    "version": 3
   },
   "file_extension": ".py",
   "mimetype": "text/x-python",
   "name": "python",
   "nbconvert_exporter": "python",
   "pygments_lexer": "ipython3",
   "version": "3.7.12"
  },
  "papermill": {
   "default_parameters": {},
   "duration": 3818.398339,
   "end_time": "2022-03-29T10:57:24.358898",
   "environment_variables": {},
   "exception": null,
   "input_path": "__notebook__.ipynb",
   "output_path": "__notebook__.ipynb",
   "parameters": {},
   "start_time": "2022-03-29T09:53:45.960559",
   "version": "2.3.3"
  }
 },
 "nbformat": 4,
 "nbformat_minor": 5
}
